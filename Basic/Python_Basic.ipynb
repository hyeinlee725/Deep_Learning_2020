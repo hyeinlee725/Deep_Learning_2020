{
 "cells": [
  {
   "cell_type": "markdown",
   "metadata": {},
   "source": [
    "# Python Bagic(Optoinal)"
   ]
  },
  {
   "cell_type": "markdown",
   "metadata": {},
   "source": [
    "### Print"
   ]
  },
  {
   "cell_type": "code",
   "execution_count": 1,
   "metadata": {},
   "outputs": [
    {
     "name": "stdout",
     "output_type": "stream",
     "text": [
      "Hello, world\n",
      "정수: 3, 03, 003, 0003, 00003\n",
      "실수: 256, 256.1, 256.12\n",
      "문자열: [Hello, world]\n"
     ]
    }
   ],
   "source": [
    "print(\"Hello, world\")\n",
    "\n",
    "#integer\n",
    "x = 3\n",
    "print (\"정수: %01d, %02d, %03d, %04d, %05d\"\n",
    "      % (x, x, x, x, x))\n",
    "\n",
    "#float\n",
    "x = 256.123\n",
    "print (\"실수: %.0f, %.1f, %.2f\"\n",
    "      % (x, x, x))\n",
    "\n",
    "#string\n",
    "x = \"Hello, world\"\n",
    "print (\"문자열: [%s]\" % (x))"
   ]
  },
  {
   "cell_type": "markdown",
   "metadata": {},
   "source": [
    "### 반복문, 조건문"
   ]
  },
  {
   "cell_type": "code",
   "execution_count": 2,
   "metadata": {},
   "outputs": [
    {
     "name": "stdout",
     "output_type": "stream",
     "text": [
      "Regression 은(는) 기계학습 내용입니다.\n",
      "Clasification 은(는) 기계학습 내용입니다.\n",
      "SVM 은(는) 기계학습 내용입니다.\n",
      "Clustering 은(는) 기계학습 내용입니다.\n",
      "Demension reduction 은(는) 기계학습 내용입니다.\n",
      "NN 은(는) 심층학습 내용입니다.\n",
      "CNN 은(는) convolutional neural network 입니다.\n",
      "AE 은(는) 심층학습 내용입니다.\n",
      "GAN 은(는) 심층학습 내용입니다.\n",
      "RNN 은(는) 심층학습 내용입니다.\n"
     ]
    }
   ],
   "source": [
    "contents = [\"Regression\", \"Clasification\", \"SVM\", \"Clustering\", \"Demension reduction\",\n",
    "           \"NN\", \"CNN\", \"AE\", \"GAN\", \"RNN\"]\n",
    "for con in contents:\n",
    "    if con in [\"Regression\", \"Clasification\", \"SVM\", \"Clustering\", \"Demension reduction\"]:\n",
    "        print(\"%s 은(는) 기계학습 내용입니다.\" %con)\n",
    "    elif con in [\"CNN\"]:\n",
    "        print(\"%s 은(는) convolutional neural network 입니다.\" %con)\n",
    "    else:\n",
    "        print(\"%s 은(는) 심층학습 내용입니다.\" %con)"
   ]
  },
  {
   "cell_type": "markdown",
   "metadata": {},
   "source": [
    "### 반복문과 인덱스"
   ]
  },
  {
   "cell_type": "code",
   "execution_count": 3,
   "metadata": {},
   "outputs": [
    {
     "name": "stdout",
     "output_type": "stream",
     "text": [
      "[0/10]: Regression\n",
      "[1/10]: Clasification\n",
      "[2/10]: SVM\n",
      "[3/10]: Clustering\n",
      "[4/10]: Demension reduction\n",
      "[5/10]: NN\n",
      "[6/10]: CNN\n",
      "[7/10]: AE\n",
      "[8/10]: GAN\n",
      "[9/10]: RNN\n"
     ]
    }
   ],
   "source": [
    "for (i, con) in enumerate(contents):\n",
    "    print (\"[%d/%d]: %s\" %(i, len(contents), con))"
   ]
  },
  {
   "cell_type": "markdown",
   "metadata": {},
   "source": [
    "### 함수"
   ]
  },
  {
   "cell_type": "code",
   "execution_count": 4,
   "metadata": {},
   "outputs": [
    {
     "name": "stdout",
     "output_type": "stream",
     "text": [
      "10.0 + 20.0 = 30.0\n"
     ]
    }
   ],
   "source": [
    "def sum(a, b):\n",
    "    return a+b\n",
    "\n",
    "x = 10.0\n",
    "y = 20.0\n",
    "print (\"%.1f + %.1f = %.1f\" %(x, y, sum(x, y)))"
   ]
  },
  {
   "cell_type": "markdown",
   "metadata": {},
   "source": [
    "### 리스트"
   ]
  },
  {
   "cell_type": "code",
   "execution_count": 5,
   "metadata": {},
   "outputs": [
    {
     "name": "stdout",
     "output_type": "stream",
     "text": [
      "[]\n",
      "['a']\n",
      "['a', 123]\n",
      "['a', 123, ['a', 'b']]\n"
     ]
    }
   ],
   "source": [
    "a = []\n",
    "b = [1,2,3]\n",
    "c = [\"Hello\", \",\", \"world\"]\n",
    "d = [1,2,3,\"x\",\"y\",\"z\"]\n",
    "x = []\n",
    "print (x)\n",
    "\n",
    "x.append('a')\n",
    "print (x)\n",
    "\n",
    "x.append(123)\n",
    "print (x)\n",
    "\n",
    "x.append([\"a\", \"b\"])\n",
    "print x"
   ]
  },
  {
   "cell_type": "markdown",
   "metadata": {},
   "source": [
    "### Dictionary"
   ]
  },
  {
   "cell_type": "code",
   "execution_count": 6,
   "metadata": {},
   "outputs": [
    {
     "name": "stdout",
     "output_type": "stream",
     "text": [
      "{'Town': 'Bucheon', 'job': 'Student', 'name': 'HyeIn'}\n"
     ]
    }
   ],
   "source": [
    "dic = dict()\n",
    "dic[\"name\"] = \"HyeIn\"\n",
    "dic[\"Town\"] = \"Bucheon\"\n",
    "dic[\"job\"] = \"Student\"\n",
    "print dic"
   ]
  },
  {
   "cell_type": "markdown",
   "metadata": {},
   "source": [
    "### Class"
   ]
  },
  {
   "cell_type": "code",
   "execution_count": 7,
   "metadata": {},
   "outputs": [
    {
     "name": "stdout",
     "output_type": "stream",
     "text": [
      "HyeIn 학생은 공부합니다.\n",
      "HyeIn 학생은 열심히 공부합니다.\n"
     ]
    }
   ],
   "source": [
    "class Student:\n",
    "    #생성자\n",
    "    def __init__(self, name):\n",
    "        self.name = name\n",
    "    #메써드\n",
    "    def study(self, hard=False):\n",
    "        if hard:\n",
    "            print \"%s 학생은 열심히 공부합니다.\" %self.name\n",
    "        else:\n",
    "            print \"%s 학생은 공부합니다.\" %self.name\n",
    "            \n",
    "s = Student('HyeIn')\n",
    "s.study()\n",
    "s.study(hard=True)"
   ]
  }
 ],
 "metadata": {
  "kernelspec": {
   "display_name": "conda_pytorch_p27",
   "language": "python",
   "name": "conda_pytorch_p27"
  },
  "language_info": {
   "codemirror_mode": {
    "name": "ipython",
    "version": 2
   },
   "file_extension": ".py",
   "mimetype": "text/x-python",
   "name": "python",
   "nbconvert_exporter": "python",
   "pygments_lexer": "ipython2",
   "version": "2.7.15"
  }
 },
 "nbformat": 4,
 "nbformat_minor": 4
}
